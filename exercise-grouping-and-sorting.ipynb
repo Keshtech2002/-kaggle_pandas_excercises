{
 "cells": [
  {
   "cell_type": "markdown",
   "id": "7d408755",
   "metadata": {
    "papermill": {
     "duration": 0.01171,
     "end_time": "2022-06-01T20:57:39.314828",
     "exception": false,
     "start_time": "2022-06-01T20:57:39.303118",
     "status": "completed"
    },
    "tags": []
   },
   "source": [
    "**This notebook is an exercise in the [Pandas](https://www.kaggle.com/learn/pandas) course.  You can reference the tutorial at [this link](https://www.kaggle.com/residentmario/grouping-and-sorting).**\n",
    "\n",
    "---\n"
   ]
  },
  {
   "cell_type": "markdown",
   "id": "6f5cf0c3",
   "metadata": {
    "papermill": {
     "duration": 0.0079,
     "end_time": "2022-06-01T20:57:39.331017",
     "exception": false,
     "start_time": "2022-06-01T20:57:39.323117",
     "status": "completed"
    },
    "tags": []
   },
   "source": [
    "# Introduction\n",
    "\n",
    "In these exercises we'll apply groupwise analysis to our dataset.\n",
    "\n",
    "Run the code cell below to load the data before running the exercises."
   ]
  },
  {
   "cell_type": "code",
   "execution_count": 1,
   "id": "d62b0270",
   "metadata": {
    "execution": {
     "iopub.execute_input": "2022-06-01T20:57:39.349159Z",
     "iopub.status.busy": "2022-06-01T20:57:39.348719Z",
     "iopub.status.idle": "2022-06-01T20:57:42.372838Z",
     "shell.execute_reply": "2022-06-01T20:57:42.371779Z"
    },
    "papermill": {
     "duration": 3.036733,
     "end_time": "2022-06-01T20:57:42.375896",
     "exception": false,
     "start_time": "2022-06-01T20:57:39.339163",
     "status": "completed"
    },
    "tags": []
   },
   "outputs": [
    {
     "name": "stdout",
     "output_type": "stream",
     "text": [
      "Setup complete.\n"
     ]
    }
   ],
   "source": [
    "import pandas as pd\n",
    "\n",
    "reviews = pd.read_csv(\"../input/wine-reviews/winemag-data-130k-v2.csv\", index_col=0)\n",
    "#pd.set_option(\"display.max_rows\", 5)\n",
    "\n",
    "from learntools.core import binder; binder.bind(globals())\n",
    "from learntools.pandas.grouping_and_sorting import *\n",
    "print(\"Setup complete.\")"
   ]
  },
  {
   "cell_type": "code",
   "execution_count": 2,
   "id": "97d6b37a",
   "metadata": {
    "execution": {
     "iopub.execute_input": "2022-06-01T20:57:42.395177Z",
     "iopub.status.busy": "2022-06-01T20:57:42.394809Z",
     "iopub.status.idle": "2022-06-01T20:57:42.424658Z",
     "shell.execute_reply": "2022-06-01T20:57:42.423597Z"
    },
    "papermill": {
     "duration": 0.04223,
     "end_time": "2022-06-01T20:57:42.427155",
     "exception": false,
     "start_time": "2022-06-01T20:57:42.384925",
     "status": "completed"
    },
    "tags": []
   },
   "outputs": [
    {
     "data": {
      "text/html": [
       "<div>\n",
       "<style scoped>\n",
       "    .dataframe tbody tr th:only-of-type {\n",
       "        vertical-align: middle;\n",
       "    }\n",
       "\n",
       "    .dataframe tbody tr th {\n",
       "        vertical-align: top;\n",
       "    }\n",
       "\n",
       "    .dataframe thead th {\n",
       "        text-align: right;\n",
       "    }\n",
       "</style>\n",
       "<table border=\"1\" class=\"dataframe\">\n",
       "  <thead>\n",
       "    <tr style=\"text-align: right;\">\n",
       "      <th></th>\n",
       "      <th>country</th>\n",
       "      <th>description</th>\n",
       "      <th>designation</th>\n",
       "      <th>points</th>\n",
       "      <th>price</th>\n",
       "      <th>province</th>\n",
       "      <th>region_1</th>\n",
       "      <th>region_2</th>\n",
       "      <th>taster_name</th>\n",
       "      <th>taster_twitter_handle</th>\n",
       "      <th>title</th>\n",
       "      <th>variety</th>\n",
       "      <th>winery</th>\n",
       "    </tr>\n",
       "  </thead>\n",
       "  <tbody>\n",
       "    <tr>\n",
       "      <th>0</th>\n",
       "      <td>Italy</td>\n",
       "      <td>Aromas include tropical fruit, broom, brimston...</td>\n",
       "      <td>Vulkà Bianco</td>\n",
       "      <td>87</td>\n",
       "      <td>NaN</td>\n",
       "      <td>Sicily &amp; Sardinia</td>\n",
       "      <td>Etna</td>\n",
       "      <td>NaN</td>\n",
       "      <td>Kerin O’Keefe</td>\n",
       "      <td>@kerinokeefe</td>\n",
       "      <td>Nicosia 2013 Vulkà Bianco  (Etna)</td>\n",
       "      <td>White Blend</td>\n",
       "      <td>Nicosia</td>\n",
       "    </tr>\n",
       "    <tr>\n",
       "      <th>1</th>\n",
       "      <td>Portugal</td>\n",
       "      <td>This is ripe and fruity, a wine that is smooth...</td>\n",
       "      <td>Avidagos</td>\n",
       "      <td>87</td>\n",
       "      <td>15.0</td>\n",
       "      <td>Douro</td>\n",
       "      <td>NaN</td>\n",
       "      <td>NaN</td>\n",
       "      <td>Roger Voss</td>\n",
       "      <td>@vossroger</td>\n",
       "      <td>Quinta dos Avidagos 2011 Avidagos Red (Douro)</td>\n",
       "      <td>Portuguese Red</td>\n",
       "      <td>Quinta dos Avidagos</td>\n",
       "    </tr>\n",
       "    <tr>\n",
       "      <th>2</th>\n",
       "      <td>US</td>\n",
       "      <td>Tart and snappy, the flavors of lime flesh and...</td>\n",
       "      <td>NaN</td>\n",
       "      <td>87</td>\n",
       "      <td>14.0</td>\n",
       "      <td>Oregon</td>\n",
       "      <td>Willamette Valley</td>\n",
       "      <td>Willamette Valley</td>\n",
       "      <td>Paul Gregutt</td>\n",
       "      <td>@paulgwine</td>\n",
       "      <td>Rainstorm 2013 Pinot Gris (Willamette Valley)</td>\n",
       "      <td>Pinot Gris</td>\n",
       "      <td>Rainstorm</td>\n",
       "    </tr>\n",
       "    <tr>\n",
       "      <th>3</th>\n",
       "      <td>US</td>\n",
       "      <td>Pineapple rind, lemon pith and orange blossom ...</td>\n",
       "      <td>Reserve Late Harvest</td>\n",
       "      <td>87</td>\n",
       "      <td>13.0</td>\n",
       "      <td>Michigan</td>\n",
       "      <td>Lake Michigan Shore</td>\n",
       "      <td>NaN</td>\n",
       "      <td>Alexander Peartree</td>\n",
       "      <td>NaN</td>\n",
       "      <td>St. Julian 2013 Reserve Late Harvest Riesling ...</td>\n",
       "      <td>Riesling</td>\n",
       "      <td>St. Julian</td>\n",
       "    </tr>\n",
       "    <tr>\n",
       "      <th>4</th>\n",
       "      <td>US</td>\n",
       "      <td>Much like the regular bottling from 2012, this...</td>\n",
       "      <td>Vintner's Reserve Wild Child Block</td>\n",
       "      <td>87</td>\n",
       "      <td>65.0</td>\n",
       "      <td>Oregon</td>\n",
       "      <td>Willamette Valley</td>\n",
       "      <td>Willamette Valley</td>\n",
       "      <td>Paul Gregutt</td>\n",
       "      <td>@paulgwine</td>\n",
       "      <td>Sweet Cheeks 2012 Vintner's Reserve Wild Child...</td>\n",
       "      <td>Pinot Noir</td>\n",
       "      <td>Sweet Cheeks</td>\n",
       "    </tr>\n",
       "  </tbody>\n",
       "</table>\n",
       "</div>"
      ],
      "text/plain": [
       "    country                                        description  \\\n",
       "0     Italy  Aromas include tropical fruit, broom, brimston...   \n",
       "1  Portugal  This is ripe and fruity, a wine that is smooth...   \n",
       "2        US  Tart and snappy, the flavors of lime flesh and...   \n",
       "3        US  Pineapple rind, lemon pith and orange blossom ...   \n",
       "4        US  Much like the regular bottling from 2012, this...   \n",
       "\n",
       "                          designation  points  price           province  \\\n",
       "0                        Vulkà Bianco      87    NaN  Sicily & Sardinia   \n",
       "1                            Avidagos      87   15.0              Douro   \n",
       "2                                 NaN      87   14.0             Oregon   \n",
       "3                Reserve Late Harvest      87   13.0           Michigan   \n",
       "4  Vintner's Reserve Wild Child Block      87   65.0             Oregon   \n",
       "\n",
       "              region_1           region_2         taster_name  \\\n",
       "0                 Etna                NaN       Kerin O’Keefe   \n",
       "1                  NaN                NaN          Roger Voss   \n",
       "2    Willamette Valley  Willamette Valley        Paul Gregutt   \n",
       "3  Lake Michigan Shore                NaN  Alexander Peartree   \n",
       "4    Willamette Valley  Willamette Valley        Paul Gregutt   \n",
       "\n",
       "  taster_twitter_handle                                              title  \\\n",
       "0          @kerinokeefe                  Nicosia 2013 Vulkà Bianco  (Etna)   \n",
       "1            @vossroger      Quinta dos Avidagos 2011 Avidagos Red (Douro)   \n",
       "2           @paulgwine       Rainstorm 2013 Pinot Gris (Willamette Valley)   \n",
       "3                   NaN  St. Julian 2013 Reserve Late Harvest Riesling ...   \n",
       "4           @paulgwine   Sweet Cheeks 2012 Vintner's Reserve Wild Child...   \n",
       "\n",
       "          variety               winery  \n",
       "0     White Blend              Nicosia  \n",
       "1  Portuguese Red  Quinta dos Avidagos  \n",
       "2      Pinot Gris            Rainstorm  \n",
       "3        Riesling           St. Julian  \n",
       "4      Pinot Noir         Sweet Cheeks  "
      ]
     },
     "execution_count": 2,
     "metadata": {},
     "output_type": "execute_result"
    }
   ],
   "source": [
    "reviews.head()"
   ]
  },
  {
   "cell_type": "markdown",
   "id": "36db0e8d",
   "metadata": {
    "papermill": {
     "duration": 0.008359,
     "end_time": "2022-06-01T20:57:42.444893",
     "exception": false,
     "start_time": "2022-06-01T20:57:42.436534",
     "status": "completed"
    },
    "tags": []
   },
   "source": [
    "# Exercises"
   ]
  },
  {
   "cell_type": "markdown",
   "id": "f0f2dc09",
   "metadata": {
    "papermill": {
     "duration": 0.008581,
     "end_time": "2022-06-01T20:57:42.462046",
     "exception": false,
     "start_time": "2022-06-01T20:57:42.453465",
     "status": "completed"
    },
    "tags": []
   },
   "source": [
    "## 1.\n",
    "Who are the most common wine reviewers in the dataset? Create a `Series` whose index is the `taster_twitter_handle` category from the dataset, and whose values count how many reviews each person wrote."
   ]
  },
  {
   "cell_type": "code",
   "execution_count": 3,
   "id": "3cbb3739",
   "metadata": {
    "execution": {
     "iopub.execute_input": "2022-06-01T20:57:42.480375Z",
     "iopub.status.busy": "2022-06-01T20:57:42.480002Z",
     "iopub.status.idle": "2022-06-01T20:57:42.509162Z",
     "shell.execute_reply": "2022-06-01T20:57:42.508359Z"
    },
    "papermill": {
     "duration": 0.040856,
     "end_time": "2022-06-01T20:57:42.511262",
     "exception": false,
     "start_time": "2022-06-01T20:57:42.470406",
     "status": "completed"
    },
    "tags": []
   },
   "outputs": [
    {
     "data": {
      "application/javascript": [
       "parent.postMessage({\"jupyterEvent\": \"custom.exercise_interaction\", \"data\": {\"outcomeType\": 1, \"valueTowardsCompletion\": 0.16666666666666666, \"interactionType\": 1, \"questionType\": 1, \"questionId\": \"1_ReviewsWritten\", \"learnToolsVersion\": \"0.3.4\", \"failureMessage\": \"\", \"exceptionClass\": \"\", \"trace\": \"\"}}, \"*\")"
      ],
      "text/plain": [
       "<IPython.core.display.Javascript object>"
      ]
     },
     "metadata": {},
     "output_type": "display_data"
    },
    {
     "data": {
      "text/markdown": [
       "<span style=\"color:#33cc33\">Correct:</span> \n",
       "\n",
       "\n",
       "```python\n",
       "reviews_written = reviews.groupby('taster_twitter_handle').size()\n",
       "```\n",
       "or\n",
       "```python\n",
       "reviews_written = reviews.groupby('taster_twitter_handle').taster_twitter_handle.count()\n",
       "```\n"
      ],
      "text/plain": [
       "Correct: \n",
       "\n",
       "\n",
       "```python\n",
       "reviews_written = reviews.groupby('taster_twitter_handle').size()\n",
       "```\n",
       "or\n",
       "```python\n",
       "reviews_written = reviews.groupby('taster_twitter_handle').taster_twitter_handle.count()\n",
       "```"
      ]
     },
     "metadata": {},
     "output_type": "display_data"
    }
   ],
   "source": [
    "# Your code here\n",
    "reviews_written = reviews.groupby('taster_twitter_handle').size()\n",
    "\n",
    "# Check your answer\n",
    "q1.check()"
   ]
  },
  {
   "cell_type": "code",
   "execution_count": 4,
   "id": "6fed22ec",
   "metadata": {
    "execution": {
     "iopub.execute_input": "2022-06-01T20:57:42.532818Z",
     "iopub.status.busy": "2022-06-01T20:57:42.531800Z",
     "iopub.status.idle": "2022-06-01T20:57:42.560809Z",
     "shell.execute_reply": "2022-06-01T20:57:42.559683Z"
    },
    "papermill": {
     "duration": 0.042742,
     "end_time": "2022-06-01T20:57:42.562997",
     "exception": false,
     "start_time": "2022-06-01T20:57:42.520255",
     "status": "completed"
    },
    "tags": []
   },
   "outputs": [
    {
     "data": {
      "text/plain": [
       "taster_twitter_handle\n",
       "@AnneInVino          3685\n",
       "@JoeCz               5147\n",
       "@bkfiona               27\n",
       "@gordone_cellars     4177\n",
       "@kerinokeefe        10776\n",
       "dtype: int64"
      ]
     },
     "execution_count": 4,
     "metadata": {},
     "output_type": "execute_result"
    }
   ],
   "source": [
    "reviews_written = reviews.groupby('taster_twitter_handle').size()\n",
    "reviews_written.head()"
   ]
  },
  {
   "cell_type": "code",
   "execution_count": 5,
   "id": "8b401a1a",
   "metadata": {
    "execution": {
     "iopub.execute_input": "2022-06-01T20:57:42.584128Z",
     "iopub.status.busy": "2022-06-01T20:57:42.583736Z",
     "iopub.status.idle": "2022-06-01T20:57:42.587598Z",
     "shell.execute_reply": "2022-06-01T20:57:42.586516Z"
    },
    "papermill": {
     "duration": 0.01702,
     "end_time": "2022-06-01T20:57:42.589521",
     "exception": false,
     "start_time": "2022-06-01T20:57:42.572501",
     "status": "completed"
    },
    "tags": []
   },
   "outputs": [],
   "source": [
    "# q1.hint()\n",
    "# q1.solution()"
   ]
  },
  {
   "cell_type": "markdown",
   "id": "9939811a",
   "metadata": {
    "papermill": {
     "duration": 0.00865,
     "end_time": "2022-06-01T20:57:42.607127",
     "exception": false,
     "start_time": "2022-06-01T20:57:42.598477",
     "status": "completed"
    },
    "tags": []
   },
   "source": [
    "## 2.\n",
    "What is the best wine I can buy for a given amount of money? Create a `Series` whose index is wine prices and whose values is the maximum number of points a wine costing that much was given in a review. Sort the values by price, ascending (so that `4.0` dollars is at the top and `3300.0` dollars is at the bottom)."
   ]
  },
  {
   "cell_type": "code",
   "execution_count": 6,
   "id": "db0f20a1",
   "metadata": {
    "execution": {
     "iopub.execute_input": "2022-06-01T20:57:42.626574Z",
     "iopub.status.busy": "2022-06-01T20:57:42.626192Z",
     "iopub.status.idle": "2022-06-01T20:57:42.639769Z",
     "shell.execute_reply": "2022-06-01T20:57:42.638829Z"
    },
    "papermill": {
     "duration": 0.02634,
     "end_time": "2022-06-01T20:57:42.642303",
     "exception": false,
     "start_time": "2022-06-01T20:57:42.615963",
     "status": "completed"
    },
    "tags": []
   },
   "outputs": [
    {
     "data": {
      "application/javascript": [
       "parent.postMessage({\"jupyterEvent\": \"custom.exercise_interaction\", \"data\": {\"outcomeType\": 1, \"valueTowardsCompletion\": 0.16666666666666666, \"interactionType\": 1, \"questionType\": 1, \"questionId\": \"2_BestRatingPerPrice\", \"learnToolsVersion\": \"0.3.4\", \"failureMessage\": \"\", \"exceptionClass\": \"\", \"trace\": \"\"}}, \"*\")"
      ],
      "text/plain": [
       "<IPython.core.display.Javascript object>"
      ]
     },
     "metadata": {},
     "output_type": "display_data"
    },
    {
     "data": {
      "text/markdown": [
       "<span style=\"color:#33cc33\">Correct</span>"
      ],
      "text/plain": [
       "Correct"
      ]
     },
     "metadata": {},
     "output_type": "display_data"
    }
   ],
   "source": [
    "best_rating_per_price = reviews.groupby('price')['points'].max()\n",
    "\n",
    "# Check your answer\n",
    "q2.check()"
   ]
  },
  {
   "cell_type": "code",
   "execution_count": 7,
   "id": "41399f6d",
   "metadata": {
    "execution": {
     "iopub.execute_input": "2022-06-01T20:57:42.662874Z",
     "iopub.status.busy": "2022-06-01T20:57:42.662070Z",
     "iopub.status.idle": "2022-06-01T20:57:42.676283Z",
     "shell.execute_reply": "2022-06-01T20:57:42.675195Z"
    },
    "papermill": {
     "duration": 0.027028,
     "end_time": "2022-06-01T20:57:42.678373",
     "exception": false,
     "start_time": "2022-06-01T20:57:42.651345",
     "status": "completed"
    },
    "tags": []
   },
   "outputs": [
    {
     "data": {
      "text/plain": [
       "price\n",
       "4.0    86\n",
       "5.0    87\n",
       "6.0    88\n",
       "7.0    91\n",
       "8.0    91\n",
       "Name: points, dtype: int64"
      ]
     },
     "execution_count": 7,
     "metadata": {},
     "output_type": "execute_result"
    }
   ],
   "source": [
    "best_rating_per_price = reviews.groupby('price')['points'].max()\n",
    "best_rating_per_price.head()"
   ]
  },
  {
   "cell_type": "code",
   "execution_count": 8,
   "id": "c56f41ca",
   "metadata": {
    "execution": {
     "iopub.execute_input": "2022-06-01T20:57:42.698623Z",
     "iopub.status.busy": "2022-06-01T20:57:42.698183Z",
     "iopub.status.idle": "2022-06-01T20:57:42.702189Z",
     "shell.execute_reply": "2022-06-01T20:57:42.701473Z"
    },
    "papermill": {
     "duration": 0.01617,
     "end_time": "2022-06-01T20:57:42.703937",
     "exception": false,
     "start_time": "2022-06-01T20:57:42.687767",
     "status": "completed"
    },
    "tags": []
   },
   "outputs": [],
   "source": [
    "# q2.hint()\n",
    "# q2.solution()"
   ]
  },
  {
   "cell_type": "markdown",
   "id": "deb0c127",
   "metadata": {
    "papermill": {
     "duration": 0.009085,
     "end_time": "2022-06-01T20:57:42.722388",
     "exception": false,
     "start_time": "2022-06-01T20:57:42.713303",
     "status": "completed"
    },
    "tags": []
   },
   "source": [
    "## 3.\n",
    "What are the minimum and maximum prices for each `variety` of wine? Create a `DataFrame` whose index is the `variety` category from the dataset and whose values are the `min` and `max` values thereof."
   ]
  },
  {
   "cell_type": "code",
   "execution_count": 9,
   "id": "d5b83931",
   "metadata": {
    "execution": {
     "iopub.execute_input": "2022-06-01T20:57:42.743352Z",
     "iopub.status.busy": "2022-06-01T20:57:42.742166Z",
     "iopub.status.idle": "2022-06-01T20:57:42.771554Z",
     "shell.execute_reply": "2022-06-01T20:57:42.770749Z"
    },
    "papermill": {
     "duration": 0.041789,
     "end_time": "2022-06-01T20:57:42.773437",
     "exception": false,
     "start_time": "2022-06-01T20:57:42.731648",
     "status": "completed"
    },
    "tags": []
   },
   "outputs": [
    {
     "data": {
      "application/javascript": [
       "parent.postMessage({\"jupyterEvent\": \"custom.exercise_interaction\", \"data\": {\"outcomeType\": 1, \"valueTowardsCompletion\": 0.16666666666666666, \"interactionType\": 1, \"questionType\": 1, \"questionId\": \"3_PriceExtremes\", \"learnToolsVersion\": \"0.3.4\", \"failureMessage\": \"\", \"exceptionClass\": \"\", \"trace\": \"\"}}, \"*\")"
      ],
      "text/plain": [
       "<IPython.core.display.Javascript object>"
      ]
     },
     "metadata": {},
     "output_type": "display_data"
    },
    {
     "data": {
      "text/markdown": [
       "<span style=\"color:#33cc33\">Correct</span>"
      ],
      "text/plain": [
       "Correct"
      ]
     },
     "metadata": {},
     "output_type": "display_data"
    }
   ],
   "source": [
    "price_extremes = reviews.groupby('variety')['price'].agg([min, max])\n",
    "\n",
    "# Check your answer\n",
    "q3.check()"
   ]
  },
  {
   "cell_type": "code",
   "execution_count": 10,
   "id": "7cf15860",
   "metadata": {
    "execution": {
     "iopub.execute_input": "2022-06-01T20:57:42.794619Z",
     "iopub.status.busy": "2022-06-01T20:57:42.793550Z",
     "iopub.status.idle": "2022-06-01T20:57:42.825550Z",
     "shell.execute_reply": "2022-06-01T20:57:42.824577Z"
    },
    "papermill": {
     "duration": 0.044794,
     "end_time": "2022-06-01T20:57:42.827857",
     "exception": false,
     "start_time": "2022-06-01T20:57:42.783063",
     "status": "completed"
    },
    "tags": []
   },
   "outputs": [
    {
     "data": {
      "text/html": [
       "<div>\n",
       "<style scoped>\n",
       "    .dataframe tbody tr th:only-of-type {\n",
       "        vertical-align: middle;\n",
       "    }\n",
       "\n",
       "    .dataframe tbody tr th {\n",
       "        vertical-align: top;\n",
       "    }\n",
       "\n",
       "    .dataframe thead th {\n",
       "        text-align: right;\n",
       "    }\n",
       "</style>\n",
       "<table border=\"1\" class=\"dataframe\">\n",
       "  <thead>\n",
       "    <tr style=\"text-align: right;\">\n",
       "      <th></th>\n",
       "      <th>min</th>\n",
       "      <th>max</th>\n",
       "    </tr>\n",
       "    <tr>\n",
       "      <th>variety</th>\n",
       "      <th></th>\n",
       "      <th></th>\n",
       "    </tr>\n",
       "  </thead>\n",
       "  <tbody>\n",
       "    <tr>\n",
       "      <th>Abouriou</th>\n",
       "      <td>15.0</td>\n",
       "      <td>75.0</td>\n",
       "    </tr>\n",
       "    <tr>\n",
       "      <th>Agiorgitiko</th>\n",
       "      <td>10.0</td>\n",
       "      <td>66.0</td>\n",
       "    </tr>\n",
       "    <tr>\n",
       "      <th>Aglianico</th>\n",
       "      <td>6.0</td>\n",
       "      <td>180.0</td>\n",
       "    </tr>\n",
       "    <tr>\n",
       "      <th>Aidani</th>\n",
       "      <td>27.0</td>\n",
       "      <td>27.0</td>\n",
       "    </tr>\n",
       "    <tr>\n",
       "      <th>Airen</th>\n",
       "      <td>8.0</td>\n",
       "      <td>10.0</td>\n",
       "    </tr>\n",
       "  </tbody>\n",
       "</table>\n",
       "</div>"
      ],
      "text/plain": [
       "              min    max\n",
       "variety                 \n",
       "Abouriou     15.0   75.0\n",
       "Agiorgitiko  10.0   66.0\n",
       "Aglianico     6.0  180.0\n",
       "Aidani       27.0   27.0\n",
       "Airen         8.0   10.0"
      ]
     },
     "execution_count": 10,
     "metadata": {},
     "output_type": "execute_result"
    }
   ],
   "source": [
    "price_extremes = reviews.groupby('variety')['price'].agg([min, max])\n",
    "price_extremes.head()"
   ]
  },
  {
   "cell_type": "code",
   "execution_count": 11,
   "id": "b94dbb98",
   "metadata": {
    "execution": {
     "iopub.execute_input": "2022-06-01T20:57:42.849034Z",
     "iopub.status.busy": "2022-06-01T20:57:42.848621Z",
     "iopub.status.idle": "2022-06-01T20:57:42.852117Z",
     "shell.execute_reply": "2022-06-01T20:57:42.851455Z"
    },
    "papermill": {
     "duration": 0.016095,
     "end_time": "2022-06-01T20:57:42.853708",
     "exception": false,
     "start_time": "2022-06-01T20:57:42.837613",
     "status": "completed"
    },
    "tags": []
   },
   "outputs": [],
   "source": [
    "#q3.hint()\n",
    "# q3.solution()"
   ]
  },
  {
   "cell_type": "markdown",
   "id": "0475820f",
   "metadata": {
    "papermill": {
     "duration": 0.00952,
     "end_time": "2022-06-01T20:57:42.872810",
     "exception": false,
     "start_time": "2022-06-01T20:57:42.863290",
     "status": "completed"
    },
    "tags": []
   },
   "source": [
    "## 4.\n",
    "What are the most expensive wine varieties? Create a variable `sorted_varieties` containing a copy of the dataframe from the previous question where varieties are sorted in descending order based on minimum price, then on maximum price (to break ties)."
   ]
  },
  {
   "cell_type": "code",
   "execution_count": 12,
   "id": "aec621bf",
   "metadata": {
    "execution": {
     "iopub.execute_input": "2022-06-01T20:57:42.894487Z",
     "iopub.status.busy": "2022-06-01T20:57:42.893811Z",
     "iopub.status.idle": "2022-06-01T20:57:42.924832Z",
     "shell.execute_reply": "2022-06-01T20:57:42.923999Z"
    },
    "papermill": {
     "duration": 0.044263,
     "end_time": "2022-06-01T20:57:42.926806",
     "exception": false,
     "start_time": "2022-06-01T20:57:42.882543",
     "status": "completed"
    },
    "tags": []
   },
   "outputs": [
    {
     "data": {
      "application/javascript": [
       "parent.postMessage({\"jupyterEvent\": \"custom.exercise_interaction\", \"data\": {\"outcomeType\": 1, \"valueTowardsCompletion\": 0.16666666666666666, \"interactionType\": 1, \"questionType\": 1, \"questionId\": \"4_SortedVarieties\", \"learnToolsVersion\": \"0.3.4\", \"failureMessage\": \"\", \"exceptionClass\": \"\", \"trace\": \"\"}}, \"*\")"
      ],
      "text/plain": [
       "<IPython.core.display.Javascript object>"
      ]
     },
     "metadata": {},
     "output_type": "display_data"
    },
    {
     "data": {
      "text/markdown": [
       "<span style=\"color:#33cc33\">Correct</span>"
      ],
      "text/plain": [
       "Correct"
      ]
     },
     "metadata": {},
     "output_type": "display_data"
    }
   ],
   "source": [
    "sorted_varieties = reviews.groupby('variety')['price'].agg(['min','max']).sort_values(by=['min', 'max'],ascending=False)\n",
    "\n",
    "# Check your answer\n",
    "q4.check()"
   ]
  },
  {
   "cell_type": "code",
   "execution_count": 13,
   "id": "cb709aaf",
   "metadata": {
    "execution": {
     "iopub.execute_input": "2022-06-01T20:57:42.948921Z",
     "iopub.status.busy": "2022-06-01T20:57:42.948284Z",
     "iopub.status.idle": "2022-06-01T20:57:42.951527Z",
     "shell.execute_reply": "2022-06-01T20:57:42.950900Z"
    },
    "papermill": {
     "duration": 0.016437,
     "end_time": "2022-06-01T20:57:42.953321",
     "exception": false,
     "start_time": "2022-06-01T20:57:42.936884",
     "status": "completed"
    },
    "tags": []
   },
   "outputs": [],
   "source": [
    "#q4.hint()\n",
    "# q4.solution()"
   ]
  },
  {
   "cell_type": "markdown",
   "id": "186bec8b",
   "metadata": {
    "papermill": {
     "duration": 0.009626,
     "end_time": "2022-06-01T20:57:42.972816",
     "exception": false,
     "start_time": "2022-06-01T20:57:42.963190",
     "status": "completed"
    },
    "tags": []
   },
   "source": [
    "## 5.\n",
    "Create a `Series` whose index is reviewers and whose values is the average review score given out by that reviewer. Hint: you will need the `taster_name` and `points` columns."
   ]
  },
  {
   "cell_type": "code",
   "execution_count": 14,
   "id": "6082bcee",
   "metadata": {
    "execution": {
     "iopub.execute_input": "2022-06-01T20:57:42.994457Z",
     "iopub.status.busy": "2022-06-01T20:57:42.993844Z",
     "iopub.status.idle": "2022-06-01T20:57:43.019457Z",
     "shell.execute_reply": "2022-06-01T20:57:43.018649Z"
    },
    "papermill": {
     "duration": 0.038659,
     "end_time": "2022-06-01T20:57:43.021444",
     "exception": false,
     "start_time": "2022-06-01T20:57:42.982785",
     "status": "completed"
    },
    "tags": []
   },
   "outputs": [
    {
     "data": {
      "application/javascript": [
       "parent.postMessage({\"jupyterEvent\": \"custom.exercise_interaction\", \"data\": {\"outcomeType\": 1, \"valueTowardsCompletion\": 0.16666666666666666, \"interactionType\": 1, \"questionType\": 1, \"questionId\": \"5_ReviewerMeanRatings\", \"learnToolsVersion\": \"0.3.4\", \"failureMessage\": \"\", \"exceptionClass\": \"\", \"trace\": \"\"}}, \"*\")"
      ],
      "text/plain": [
       "<IPython.core.display.Javascript object>"
      ]
     },
     "metadata": {},
     "output_type": "display_data"
    },
    {
     "data": {
      "text/markdown": [
       "<span style=\"color:#33cc33\">Correct</span>"
      ],
      "text/plain": [
       "Correct"
      ]
     },
     "metadata": {},
     "output_type": "display_data"
    }
   ],
   "source": [
    "reviewer_mean_ratings = reviewer_mean_ratings = reviews.groupby('taster_name')['points'].mean()\n",
    "\n",
    "# Check your answer\n",
    "q5.check()"
   ]
  },
  {
   "cell_type": "code",
   "execution_count": 15,
   "id": "a473939c",
   "metadata": {
    "execution": {
     "iopub.execute_input": "2022-06-01T20:57:43.044267Z",
     "iopub.status.busy": "2022-06-01T20:57:43.043629Z",
     "iopub.status.idle": "2022-06-01T20:57:43.068680Z",
     "shell.execute_reply": "2022-06-01T20:57:43.067703Z"
    },
    "papermill": {
     "duration": 0.039101,
     "end_time": "2022-06-01T20:57:43.070766",
     "exception": false,
     "start_time": "2022-06-01T20:57:43.031665",
     "status": "completed"
    },
    "tags": []
   },
   "outputs": [
    {
     "data": {
      "text/plain": [
       "taster_name\n",
       "Alexander Peartree    85.855422\n",
       "Anna Lee C. Iijima    88.415629\n",
       "Anne Krebiehl MW      90.562551\n",
       "Carrie Dykes          86.395683\n",
       "Christina Pickard     87.833333\n",
       "Name: points, dtype: float64"
      ]
     },
     "execution_count": 15,
     "metadata": {},
     "output_type": "execute_result"
    }
   ],
   "source": [
    "reviewer_mean_ratings = reviewer_mean_ratings = reviews.groupby('taster_name')['points'].mean()\n",
    "reviewer_mean_ratings.head()"
   ]
  },
  {
   "cell_type": "code",
   "execution_count": 16,
   "id": "3f1b8620",
   "metadata": {
    "execution": {
     "iopub.execute_input": "2022-06-01T20:57:43.093438Z",
     "iopub.status.busy": "2022-06-01T20:57:43.092834Z",
     "iopub.status.idle": "2022-06-01T20:57:43.096365Z",
     "shell.execute_reply": "2022-06-01T20:57:43.095731Z"
    },
    "papermill": {
     "duration": 0.017019,
     "end_time": "2022-06-01T20:57:43.098095",
     "exception": false,
     "start_time": "2022-06-01T20:57:43.081076",
     "status": "completed"
    },
    "tags": []
   },
   "outputs": [],
   "source": [
    "#q5.hint()\n",
    "#q5.solution()"
   ]
  },
  {
   "cell_type": "markdown",
   "id": "79fcdf70",
   "metadata": {
    "papermill": {
     "duration": 0.010075,
     "end_time": "2022-06-01T20:57:43.118592",
     "exception": false,
     "start_time": "2022-06-01T20:57:43.108517",
     "status": "completed"
    },
    "tags": []
   },
   "source": [
    "Are there significant differences in the average scores assigned by the various reviewers? Run the cell below to use the `describe()` method to see a summary of the range of values."
   ]
  },
  {
   "cell_type": "code",
   "execution_count": 17,
   "id": "45352959",
   "metadata": {
    "execution": {
     "iopub.execute_input": "2022-06-01T20:57:43.141828Z",
     "iopub.status.busy": "2022-06-01T20:57:43.141137Z",
     "iopub.status.idle": "2022-06-01T20:57:43.152400Z",
     "shell.execute_reply": "2022-06-01T20:57:43.151712Z"
    },
    "papermill": {
     "duration": 0.025589,
     "end_time": "2022-06-01T20:57:43.154460",
     "exception": false,
     "start_time": "2022-06-01T20:57:43.128871",
     "status": "completed"
    },
    "tags": []
   },
   "outputs": [
    {
     "data": {
      "text/plain": [
       "count    19.000000\n",
       "mean     88.233026\n",
       "std       1.243610\n",
       "min      85.855422\n",
       "25%      87.323501\n",
       "50%      88.536235\n",
       "75%      88.975256\n",
       "max      90.562551\n",
       "Name: points, dtype: float64"
      ]
     },
     "execution_count": 17,
     "metadata": {},
     "output_type": "execute_result"
    }
   ],
   "source": [
    "reviewer_mean_ratings.describe()"
   ]
  },
  {
   "cell_type": "markdown",
   "id": "e48070b7",
   "metadata": {
    "papermill": {
     "duration": 0.010751,
     "end_time": "2022-06-01T20:57:43.175808",
     "exception": false,
     "start_time": "2022-06-01T20:57:43.165057",
     "status": "completed"
    },
    "tags": []
   },
   "source": [
    "## 6.\n",
    "What combination of countries and varieties are most common? Create a `Series` whose index is a `MultiIndex`of `{country, variety}` pairs. For example, a pinot noir produced in the US should map to `{\"US\", \"Pinot Noir\"}`. Sort the values in the `Series` in descending order based on wine count."
   ]
  },
  {
   "cell_type": "code",
   "execution_count": 18,
   "id": "7d4ee111",
   "metadata": {
    "execution": {
     "iopub.execute_input": "2022-06-01T20:57:43.198703Z",
     "iopub.status.busy": "2022-06-01T20:57:43.198049Z",
     "iopub.status.idle": "2022-06-01T20:57:43.244929Z",
     "shell.execute_reply": "2022-06-01T20:57:43.244004Z"
    },
    "papermill": {
     "duration": 0.060613,
     "end_time": "2022-06-01T20:57:43.247014",
     "exception": false,
     "start_time": "2022-06-01T20:57:43.186401",
     "status": "completed"
    },
    "tags": []
   },
   "outputs": [
    {
     "data": {
      "application/javascript": [
       "parent.postMessage({\"jupyterEvent\": \"custom.exercise_interaction\", \"data\": {\"outcomeType\": 1, \"valueTowardsCompletion\": 0.16666666666666666, \"interactionType\": 1, \"questionType\": 1, \"questionId\": \"6_GroupbyCountryVariety\", \"learnToolsVersion\": \"0.3.4\", \"failureMessage\": \"\", \"exceptionClass\": \"\", \"trace\": \"\"}}, \"*\")"
      ],
      "text/plain": [
       "<IPython.core.display.Javascript object>"
      ]
     },
     "metadata": {},
     "output_type": "display_data"
    },
    {
     "data": {
      "text/markdown": [
       "<span style=\"color:#33cc33\">Correct</span>"
      ],
      "text/plain": [
       "Correct"
      ]
     },
     "metadata": {},
     "output_type": "display_data"
    }
   ],
   "source": [
    "country_variety_counts = reviews.groupby(['country','variety']).size().sort_values(ascending=False)\n",
    "\n",
    "# Check your answer\n",
    "q6.check()"
   ]
  },
  {
   "cell_type": "code",
   "execution_count": 19,
   "id": "de534b8b",
   "metadata": {
    "execution": {
     "iopub.execute_input": "2022-06-01T20:57:43.271205Z",
     "iopub.status.busy": "2022-06-01T20:57:43.270823Z",
     "iopub.status.idle": "2022-06-01T20:57:43.317546Z",
     "shell.execute_reply": "2022-06-01T20:57:43.316654Z"
    },
    "papermill": {
     "duration": 0.061598,
     "end_time": "2022-06-01T20:57:43.319883",
     "exception": false,
     "start_time": "2022-06-01T20:57:43.258285",
     "status": "completed"
    },
    "tags": []
   },
   "outputs": [
    {
     "data": {
      "text/plain": [
       "country  variety                 \n",
       "US       Pinot Noir                  9885\n",
       "         Cabernet Sauvignon          7315\n",
       "         Chardonnay                  6801\n",
       "France   Bordeaux-style Red Blend    4725\n",
       "Italy    Red Blend                   3624\n",
       "dtype: int64"
      ]
     },
     "execution_count": 19,
     "metadata": {},
     "output_type": "execute_result"
    }
   ],
   "source": [
    "country_variety_counts = reviews.groupby(['country','variety']).size().sort_values(ascending=False)\n",
    "country_variety_counts.head()"
   ]
  },
  {
   "cell_type": "code",
   "execution_count": 20,
   "id": "8c24acd0",
   "metadata": {
    "execution": {
     "iopub.execute_input": "2022-06-01T20:57:43.344039Z",
     "iopub.status.busy": "2022-06-01T20:57:43.343047Z",
     "iopub.status.idle": "2022-06-01T20:57:43.347756Z",
     "shell.execute_reply": "2022-06-01T20:57:43.346874Z"
    },
    "papermill": {
     "duration": 0.01895,
     "end_time": "2022-06-01T20:57:43.349844",
     "exception": false,
     "start_time": "2022-06-01T20:57:43.330894",
     "status": "completed"
    },
    "tags": []
   },
   "outputs": [],
   "source": [
    "#q6.hint()\n",
    "#q6.solution()"
   ]
  },
  {
   "cell_type": "markdown",
   "id": "dcdd322f",
   "metadata": {
    "papermill": {
     "duration": 0.010542,
     "end_time": "2022-06-01T20:57:43.371384",
     "exception": false,
     "start_time": "2022-06-01T20:57:43.360842",
     "status": "completed"
    },
    "tags": []
   },
   "source": [
    "# Keep going\n",
    "\n",
    "Move on to the [**data types and missing data**](https://www.kaggle.com/residentmario/data-types-and-missing-values)."
   ]
  },
  {
   "cell_type": "markdown",
   "id": "242babb2",
   "metadata": {
    "papermill": {
     "duration": 0.010601,
     "end_time": "2022-06-01T20:57:43.392892",
     "exception": false,
     "start_time": "2022-06-01T20:57:43.382291",
     "status": "completed"
    },
    "tags": []
   },
   "source": [
    "---\n",
    "\n",
    "\n",
    "\n",
    "\n",
    "*Have questions or comments? Visit the [course discussion forum](https://www.kaggle.com/learn/pandas/discussion) to chat with other learners.*"
   ]
  }
 ],
 "metadata": {
  "kernelspec": {
   "display_name": "Python 3",
   "language": "python",
   "name": "python3"
  },
  "language_info": {
   "codemirror_mode": {
    "name": "ipython",
    "version": 3
   },
   "file_extension": ".py",
   "mimetype": "text/x-python",
   "name": "python",
   "nbconvert_exporter": "python",
   "pygments_lexer": "ipython3",
   "version": "3.7.12"
  },
  "papermill": {
   "default_parameters": {},
   "duration": 15.331168,
   "end_time": "2022-06-01T20:57:44.125373",
   "environment_variables": {},
   "exception": null,
   "input_path": "__notebook__.ipynb",
   "output_path": "__notebook__.ipynb",
   "parameters": {},
   "start_time": "2022-06-01T20:57:28.794205",
   "version": "2.3.4"
  }
 },
 "nbformat": 4,
 "nbformat_minor": 5
}
