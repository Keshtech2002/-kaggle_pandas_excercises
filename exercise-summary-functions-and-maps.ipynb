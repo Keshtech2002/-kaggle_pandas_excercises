{
 "cells": [
  {
   "cell_type": "markdown",
   "id": "5487fb82",
   "metadata": {
    "papermill": {
     "duration": 0.011041,
     "end_time": "2022-05-31T14:37:56.199700",
     "exception": false,
     "start_time": "2022-05-31T14:37:56.188659",
     "status": "completed"
    },
    "tags": []
   },
   "source": [
    "**This notebook is an exercise in the [Pandas](https://www.kaggle.com/learn/pandas) course.  You can reference the tutorial at [this link](https://www.kaggle.com/residentmario/summary-functions-and-maps).**\n",
    "\n",
    "---\n"
   ]
  },
  {
   "cell_type": "markdown",
   "id": "e762018a",
   "metadata": {
    "papermill": {
     "duration": 0.006315,
     "end_time": "2022-05-31T14:37:56.212961",
     "exception": false,
     "start_time": "2022-05-31T14:37:56.206646",
     "status": "completed"
    },
    "tags": []
   },
   "source": [
    "# Introduction\n",
    "\n",
    "Now you are ready to get a deeper understanding of your data.\n",
    "\n",
    "Run the following cell to load your data and some utility functions (including code to check your answers)."
   ]
  },
  {
   "cell_type": "code",
   "execution_count": 1,
   "id": "e5706f53",
   "metadata": {
    "execution": {
     "iopub.execute_input": "2022-05-31T14:37:56.230217Z",
     "iopub.status.busy": "2022-05-31T14:37:56.229300Z",
     "iopub.status.idle": "2022-05-31T14:38:04.801087Z",
     "shell.execute_reply": "2022-05-31T14:38:04.800063Z"
    },
    "papermill": {
     "duration": 8.585722,
     "end_time": "2022-05-31T14:38:04.805584",
     "exception": false,
     "start_time": "2022-05-31T14:37:56.219862",
     "status": "completed"
    },
    "tags": []
   },
   "outputs": [
    {
     "name": "stdout",
     "output_type": "stream",
     "text": [
      "Setup complete.\n"
     ]
    },
    {
     "data": {
      "text/html": [
       "<div>\n",
       "<style scoped>\n",
       "    .dataframe tbody tr th:only-of-type {\n",
       "        vertical-align: middle;\n",
       "    }\n",
       "\n",
       "    .dataframe tbody tr th {\n",
       "        vertical-align: top;\n",
       "    }\n",
       "\n",
       "    .dataframe thead th {\n",
       "        text-align: right;\n",
       "    }\n",
       "</style>\n",
       "<table border=\"1\" class=\"dataframe\">\n",
       "  <thead>\n",
       "    <tr style=\"text-align: right;\">\n",
       "      <th></th>\n",
       "      <th>country</th>\n",
       "      <th>description</th>\n",
       "      <th>designation</th>\n",
       "      <th>points</th>\n",
       "      <th>price</th>\n",
       "      <th>province</th>\n",
       "      <th>region_1</th>\n",
       "      <th>region_2</th>\n",
       "      <th>taster_name</th>\n",
       "      <th>taster_twitter_handle</th>\n",
       "      <th>title</th>\n",
       "      <th>variety</th>\n",
       "      <th>winery</th>\n",
       "    </tr>\n",
       "  </thead>\n",
       "  <tbody>\n",
       "    <tr>\n",
       "      <th>0</th>\n",
       "      <td>Italy</td>\n",
       "      <td>Aromas include tropical fruit, broom, brimston...</td>\n",
       "      <td>Vulkà Bianco</td>\n",
       "      <td>87</td>\n",
       "      <td>NaN</td>\n",
       "      <td>Sicily &amp; Sardinia</td>\n",
       "      <td>Etna</td>\n",
       "      <td>NaN</td>\n",
       "      <td>Kerin O’Keefe</td>\n",
       "      <td>@kerinokeefe</td>\n",
       "      <td>Nicosia 2013 Vulkà Bianco  (Etna)</td>\n",
       "      <td>White Blend</td>\n",
       "      <td>Nicosia</td>\n",
       "    </tr>\n",
       "    <tr>\n",
       "      <th>1</th>\n",
       "      <td>Portugal</td>\n",
       "      <td>This is ripe and fruity, a wine that is smooth...</td>\n",
       "      <td>Avidagos</td>\n",
       "      <td>87</td>\n",
       "      <td>15.0</td>\n",
       "      <td>Douro</td>\n",
       "      <td>NaN</td>\n",
       "      <td>NaN</td>\n",
       "      <td>Roger Voss</td>\n",
       "      <td>@vossroger</td>\n",
       "      <td>Quinta dos Avidagos 2011 Avidagos Red (Douro)</td>\n",
       "      <td>Portuguese Red</td>\n",
       "      <td>Quinta dos Avidagos</td>\n",
       "    </tr>\n",
       "    <tr>\n",
       "      <th>2</th>\n",
       "      <td>US</td>\n",
       "      <td>Tart and snappy, the flavors of lime flesh and...</td>\n",
       "      <td>NaN</td>\n",
       "      <td>87</td>\n",
       "      <td>14.0</td>\n",
       "      <td>Oregon</td>\n",
       "      <td>Willamette Valley</td>\n",
       "      <td>Willamette Valley</td>\n",
       "      <td>Paul Gregutt</td>\n",
       "      <td>@paulgwine</td>\n",
       "      <td>Rainstorm 2013 Pinot Gris (Willamette Valley)</td>\n",
       "      <td>Pinot Gris</td>\n",
       "      <td>Rainstorm</td>\n",
       "    </tr>\n",
       "    <tr>\n",
       "      <th>3</th>\n",
       "      <td>US</td>\n",
       "      <td>Pineapple rind, lemon pith and orange blossom ...</td>\n",
       "      <td>Reserve Late Harvest</td>\n",
       "      <td>87</td>\n",
       "      <td>13.0</td>\n",
       "      <td>Michigan</td>\n",
       "      <td>Lake Michigan Shore</td>\n",
       "      <td>NaN</td>\n",
       "      <td>Alexander Peartree</td>\n",
       "      <td>NaN</td>\n",
       "      <td>St. Julian 2013 Reserve Late Harvest Riesling ...</td>\n",
       "      <td>Riesling</td>\n",
       "      <td>St. Julian</td>\n",
       "    </tr>\n",
       "    <tr>\n",
       "      <th>4</th>\n",
       "      <td>US</td>\n",
       "      <td>Much like the regular bottling from 2012, this...</td>\n",
       "      <td>Vintner's Reserve Wild Child Block</td>\n",
       "      <td>87</td>\n",
       "      <td>65.0</td>\n",
       "      <td>Oregon</td>\n",
       "      <td>Willamette Valley</td>\n",
       "      <td>Willamette Valley</td>\n",
       "      <td>Paul Gregutt</td>\n",
       "      <td>@paulgwine</td>\n",
       "      <td>Sweet Cheeks 2012 Vintner's Reserve Wild Child...</td>\n",
       "      <td>Pinot Noir</td>\n",
       "      <td>Sweet Cheeks</td>\n",
       "    </tr>\n",
       "  </tbody>\n",
       "</table>\n",
       "</div>"
      ],
      "text/plain": [
       "    country                                        description  \\\n",
       "0     Italy  Aromas include tropical fruit, broom, brimston...   \n",
       "1  Portugal  This is ripe and fruity, a wine that is smooth...   \n",
       "2        US  Tart and snappy, the flavors of lime flesh and...   \n",
       "3        US  Pineapple rind, lemon pith and orange blossom ...   \n",
       "4        US  Much like the regular bottling from 2012, this...   \n",
       "\n",
       "                          designation  points  price           province  \\\n",
       "0                        Vulkà Bianco      87    NaN  Sicily & Sardinia   \n",
       "1                            Avidagos      87   15.0              Douro   \n",
       "2                                 NaN      87   14.0             Oregon   \n",
       "3                Reserve Late Harvest      87   13.0           Michigan   \n",
       "4  Vintner's Reserve Wild Child Block      87   65.0             Oregon   \n",
       "\n",
       "              region_1           region_2         taster_name  \\\n",
       "0                 Etna                NaN       Kerin O’Keefe   \n",
       "1                  NaN                NaN          Roger Voss   \n",
       "2    Willamette Valley  Willamette Valley        Paul Gregutt   \n",
       "3  Lake Michigan Shore                NaN  Alexander Peartree   \n",
       "4    Willamette Valley  Willamette Valley        Paul Gregutt   \n",
       "\n",
       "  taster_twitter_handle                                              title  \\\n",
       "0          @kerinokeefe                  Nicosia 2013 Vulkà Bianco  (Etna)   \n",
       "1            @vossroger      Quinta dos Avidagos 2011 Avidagos Red (Douro)   \n",
       "2           @paulgwine       Rainstorm 2013 Pinot Gris (Willamette Valley)   \n",
       "3                   NaN  St. Julian 2013 Reserve Late Harvest Riesling ...   \n",
       "4           @paulgwine   Sweet Cheeks 2012 Vintner's Reserve Wild Child...   \n",
       "\n",
       "          variety               winery  \n",
       "0     White Blend              Nicosia  \n",
       "1  Portuguese Red  Quinta dos Avidagos  \n",
       "2      Pinot Gris            Rainstorm  \n",
       "3        Riesling           St. Julian  \n",
       "4      Pinot Noir         Sweet Cheeks  "
      ]
     },
     "execution_count": 1,
     "metadata": {},
     "output_type": "execute_result"
    }
   ],
   "source": [
    "import pandas as pd\n",
    "pd.set_option(\"display.max_rows\", 5)\n",
    "reviews = pd.read_csv(\"../input/wine-reviews/winemag-data-130k-v2.csv\", index_col=0)\n",
    "\n",
    "from learntools.core import binder; binder.bind(globals())\n",
    "from learntools.pandas.summary_functions_and_maps import *\n",
    "print(\"Setup complete.\")\n",
    "\n",
    "reviews.head()"
   ]
  },
  {
   "cell_type": "markdown",
   "id": "3e970857",
   "metadata": {
    "papermill": {
     "duration": 0.007039,
     "end_time": "2022-05-31T14:38:04.820377",
     "exception": false,
     "start_time": "2022-05-31T14:38:04.813338",
     "status": "completed"
    },
    "tags": []
   },
   "source": [
    "# Exercises"
   ]
  },
  {
   "cell_type": "markdown",
   "id": "db602308",
   "metadata": {
    "papermill": {
     "duration": 0.00708,
     "end_time": "2022-05-31T14:38:04.834770",
     "exception": false,
     "start_time": "2022-05-31T14:38:04.827690",
     "status": "completed"
    },
    "tags": []
   },
   "source": [
    "## 1.\n",
    "\n",
    "What is the median of the `points` column in the `reviews` DataFrame?"
   ]
  },
  {
   "cell_type": "code",
   "execution_count": 2,
   "id": "bb5820a8",
   "metadata": {
    "execution": {
     "iopub.execute_input": "2022-05-31T14:38:04.852038Z",
     "iopub.status.busy": "2022-05-31T14:38:04.850801Z",
     "iopub.status.idle": "2022-05-31T14:38:04.867525Z",
     "shell.execute_reply": "2022-05-31T14:38:04.866439Z"
    },
    "papermill": {
     "duration": 0.027783,
     "end_time": "2022-05-31T14:38:04.869755",
     "exception": false,
     "start_time": "2022-05-31T14:38:04.841972",
     "status": "completed"
    },
    "tags": []
   },
   "outputs": [
    {
     "data": {
      "application/javascript": [
       "parent.postMessage({\"jupyterEvent\": \"custom.exercise_interaction\", \"data\": {\"outcomeType\": 1, \"valueTowardsCompletion\": 0.14285714285714285, \"interactionType\": 1, \"questionType\": 1, \"questionId\": \"1_MedianPoints\", \"learnToolsVersion\": \"0.3.4\", \"failureMessage\": \"\", \"exceptionClass\": \"\", \"trace\": \"\"}}, \"*\")"
      ],
      "text/plain": [
       "<IPython.core.display.Javascript object>"
      ]
     },
     "metadata": {},
     "output_type": "display_data"
    },
    {
     "data": {
      "text/markdown": [
       "<span style=\"color:#33cc33\">Correct</span>"
      ],
      "text/plain": [
       "Correct"
      ]
     },
     "metadata": {},
     "output_type": "display_data"
    }
   ],
   "source": [
    "median_points = reviews['points'].median()\n",
    "\n",
    "# Check your answer\n",
    "q1.check()"
   ]
  },
  {
   "cell_type": "code",
   "execution_count": 3,
   "id": "34650fa1",
   "metadata": {
    "execution": {
     "iopub.execute_input": "2022-05-31T14:38:04.889853Z",
     "iopub.status.busy": "2022-05-31T14:38:04.888997Z",
     "iopub.status.idle": "2022-05-31T14:38:04.893896Z",
     "shell.execute_reply": "2022-05-31T14:38:04.892840Z"
    },
    "papermill": {
     "duration": 0.017429,
     "end_time": "2022-05-31T14:38:04.896162",
     "exception": false,
     "start_time": "2022-05-31T14:38:04.878733",
     "status": "completed"
    },
    "tags": []
   },
   "outputs": [],
   "source": [
    "#q1.hint()\n",
    "#q1.solution()"
   ]
  },
  {
   "cell_type": "markdown",
   "id": "c8fb71b3",
   "metadata": {
    "papermill": {
     "duration": 0.008854,
     "end_time": "2022-05-31T14:38:04.913043",
     "exception": false,
     "start_time": "2022-05-31T14:38:04.904189",
     "status": "completed"
    },
    "tags": []
   },
   "source": [
    "## 2. \n",
    "What countries are represented in the dataset? (Your answer should not include any duplicates.)"
   ]
  },
  {
   "cell_type": "code",
   "execution_count": 4,
   "id": "9a81f245",
   "metadata": {
    "execution": {
     "iopub.execute_input": "2022-05-31T14:38:04.933065Z",
     "iopub.status.busy": "2022-05-31T14:38:04.932572Z",
     "iopub.status.idle": "2022-05-31T14:38:04.956141Z",
     "shell.execute_reply": "2022-05-31T14:38:04.955038Z"
    },
    "papermill": {
     "duration": 0.037764,
     "end_time": "2022-05-31T14:38:04.958972",
     "exception": false,
     "start_time": "2022-05-31T14:38:04.921208",
     "status": "completed"
    },
    "tags": []
   },
   "outputs": [
    {
     "data": {
      "application/javascript": [
       "parent.postMessage({\"jupyterEvent\": \"custom.exercise_interaction\", \"data\": {\"outcomeType\": 1, \"valueTowardsCompletion\": 0.14285714285714285, \"interactionType\": 1, \"questionType\": 2, \"questionId\": \"2_UniqueCountries\", \"learnToolsVersion\": \"0.3.4\", \"failureMessage\": \"\", \"exceptionClass\": \"\", \"trace\": \"\"}}, \"*\")"
      ],
      "text/plain": [
       "<IPython.core.display.Javascript object>"
      ]
     },
     "metadata": {},
     "output_type": "display_data"
    },
    {
     "data": {
      "text/markdown": [
       "<span style=\"color:#33cc33\">Correct</span>"
      ],
      "text/plain": [
       "Correct"
      ]
     },
     "metadata": {},
     "output_type": "display_data"
    }
   ],
   "source": [
    "countries = reviews['country'].unique()\n",
    "\n",
    "# Check your answer\n",
    "q2.check()"
   ]
  },
  {
   "cell_type": "code",
   "execution_count": 5,
   "id": "ddb84845",
   "metadata": {
    "execution": {
     "iopub.execute_input": "2022-05-31T14:38:04.981274Z",
     "iopub.status.busy": "2022-05-31T14:38:04.980196Z",
     "iopub.status.idle": "2022-05-31T14:38:04.984669Z",
     "shell.execute_reply": "2022-05-31T14:38:04.983954Z"
    },
    "papermill": {
     "duration": 0.016494,
     "end_time": "2022-05-31T14:38:04.986656",
     "exception": false,
     "start_time": "2022-05-31T14:38:04.970162",
     "status": "completed"
    },
    "tags": []
   },
   "outputs": [],
   "source": [
    "#q2.hint()\n",
    "#q2.solution()"
   ]
  },
  {
   "cell_type": "markdown",
   "id": "801587ff",
   "metadata": {
    "papermill": {
     "duration": 0.00917,
     "end_time": "2022-05-31T14:38:05.004576",
     "exception": false,
     "start_time": "2022-05-31T14:38:04.995406",
     "status": "completed"
    },
    "tags": []
   },
   "source": [
    "## 3.\n",
    "How often does each country appear in the dataset? Create a Series `reviews_per_country` mapping countries to the count of reviews of wines from that country."
   ]
  },
  {
   "cell_type": "code",
   "execution_count": 6,
   "id": "0d80a246",
   "metadata": {
    "execution": {
     "iopub.execute_input": "2022-05-31T14:38:05.023924Z",
     "iopub.status.busy": "2022-05-31T14:38:05.022869Z",
     "iopub.status.idle": "2022-05-31T14:38:05.052413Z",
     "shell.execute_reply": "2022-05-31T14:38:05.051382Z"
    },
    "papermill": {
     "duration": 0.041583,
     "end_time": "2022-05-31T14:38:05.054605",
     "exception": false,
     "start_time": "2022-05-31T14:38:05.013022",
     "status": "completed"
    },
    "tags": []
   },
   "outputs": [
    {
     "data": {
      "application/javascript": [
       "parent.postMessage({\"jupyterEvent\": \"custom.exercise_interaction\", \"data\": {\"outcomeType\": 1, \"valueTowardsCompletion\": 0.14285714285714285, \"interactionType\": 1, \"questionType\": 1, \"questionId\": \"3_ReviewsPerCountry\", \"learnToolsVersion\": \"0.3.4\", \"failureMessage\": \"\", \"exceptionClass\": \"\", \"trace\": \"\"}}, \"*\")"
      ],
      "text/plain": [
       "<IPython.core.display.Javascript object>"
      ]
     },
     "metadata": {},
     "output_type": "display_data"
    },
    {
     "data": {
      "text/markdown": [
       "<span style=\"color:#33cc33\">Correct</span>"
      ],
      "text/plain": [
       "Correct"
      ]
     },
     "metadata": {},
     "output_type": "display_data"
    }
   ],
   "source": [
    "reviews_per_country = reviews['country'].value_counts()\n",
    "\n",
    "# Check your answer\n",
    "q3.check()"
   ]
  },
  {
   "cell_type": "code",
   "execution_count": 7,
   "id": "3a76e373",
   "metadata": {
    "execution": {
     "iopub.execute_input": "2022-05-31T14:38:05.073257Z",
     "iopub.status.busy": "2022-05-31T14:38:05.072800Z",
     "iopub.status.idle": "2022-05-31T14:38:05.076384Z",
     "shell.execute_reply": "2022-05-31T14:38:05.075651Z"
    },
    "papermill": {
     "duration": 0.015559,
     "end_time": "2022-05-31T14:38:05.078274",
     "exception": false,
     "start_time": "2022-05-31T14:38:05.062715",
     "status": "completed"
    },
    "tags": []
   },
   "outputs": [],
   "source": [
    "#q3.hint()\n",
    "#q3.solution()"
   ]
  },
  {
   "cell_type": "markdown",
   "id": "235aca86",
   "metadata": {
    "papermill": {
     "duration": 0.007953,
     "end_time": "2022-05-31T14:38:05.094767",
     "exception": false,
     "start_time": "2022-05-31T14:38:05.086814",
     "status": "completed"
    },
    "tags": []
   },
   "source": [
    "## 4.\n",
    "Create variable `centered_price` containing a version of the `price` column with the mean price subtracted.\n",
    "\n",
    "(Note: this 'centering' transformation is a common preprocessing step before applying various machine learning algorithms.) "
   ]
  },
  {
   "cell_type": "code",
   "execution_count": 8,
   "id": "c82f36a6",
   "metadata": {
    "execution": {
     "iopub.execute_input": "2022-05-31T14:38:05.113764Z",
     "iopub.status.busy": "2022-05-31T14:38:05.113007Z",
     "iopub.status.idle": "2022-05-31T14:38:05.123746Z",
     "shell.execute_reply": "2022-05-31T14:38:05.122743Z"
    },
    "papermill": {
     "duration": 0.022551,
     "end_time": "2022-05-31T14:38:05.125669",
     "exception": false,
     "start_time": "2022-05-31T14:38:05.103118",
     "status": "completed"
    },
    "tags": []
   },
   "outputs": [
    {
     "data": {
      "application/javascript": [
       "parent.postMessage({\"jupyterEvent\": \"custom.exercise_interaction\", \"data\": {\"outcomeType\": 1, \"valueTowardsCompletion\": 0.14285714285714285, \"interactionType\": 1, \"questionType\": 1, \"questionId\": \"4_CenteredPrice\", \"learnToolsVersion\": \"0.3.4\", \"failureMessage\": \"\", \"exceptionClass\": \"\", \"trace\": \"\"}}, \"*\")"
      ],
      "text/plain": [
       "<IPython.core.display.Javascript object>"
      ]
     },
     "metadata": {},
     "output_type": "display_data"
    },
    {
     "data": {
      "text/markdown": [
       "<span style=\"color:#33cc33\">Correct</span>"
      ],
      "text/plain": [
       "Correct"
      ]
     },
     "metadata": {},
     "output_type": "display_data"
    }
   ],
   "source": [
    "centered_price = reviews.price - reviews.price.mean()\n",
    "\n",
    "# Check your answer\n",
    "q4.check()"
   ]
  },
  {
   "cell_type": "code",
   "execution_count": 9,
   "id": "ca4a8cb2",
   "metadata": {
    "execution": {
     "iopub.execute_input": "2022-05-31T14:38:05.145211Z",
     "iopub.status.busy": "2022-05-31T14:38:05.144498Z",
     "iopub.status.idle": "2022-05-31T14:38:05.147994Z",
     "shell.execute_reply": "2022-05-31T14:38:05.147375Z"
    },
    "papermill": {
     "duration": 0.015342,
     "end_time": "2022-05-31T14:38:05.149718",
     "exception": false,
     "start_time": "2022-05-31T14:38:05.134376",
     "status": "completed"
    },
    "tags": []
   },
   "outputs": [],
   "source": [
    "#q4.hint()\n",
    "#q4.solution()"
   ]
  },
  {
   "cell_type": "markdown",
   "id": "05246c9a",
   "metadata": {
    "papermill": {
     "duration": 0.008171,
     "end_time": "2022-05-31T14:38:05.166381",
     "exception": false,
     "start_time": "2022-05-31T14:38:05.158210",
     "status": "completed"
    },
    "tags": []
   },
   "source": [
    "## 5.\n",
    "I'm an economical wine buyer. Which wine is the \"best bargain\"? Create a variable `bargain_wine` with the title of the wine with the highest points-to-price ratio in the dataset."
   ]
  },
  {
   "cell_type": "code",
   "execution_count": 10,
   "id": "18df13e4",
   "metadata": {
    "execution": {
     "iopub.execute_input": "2022-05-31T14:38:05.185819Z",
     "iopub.status.busy": "2022-05-31T14:38:05.185032Z",
     "iopub.status.idle": "2022-05-31T14:38:05.200174Z",
     "shell.execute_reply": "2022-05-31T14:38:05.199499Z"
    },
    "papermill": {
     "duration": 0.027006,
     "end_time": "2022-05-31T14:38:05.201978",
     "exception": false,
     "start_time": "2022-05-31T14:38:05.174972",
     "status": "completed"
    },
    "tags": []
   },
   "outputs": [
    {
     "data": {
      "application/javascript": [
       "parent.postMessage({\"jupyterEvent\": \"custom.exercise_interaction\", \"data\": {\"outcomeType\": 1, \"valueTowardsCompletion\": 0.14285714285714285, \"interactionType\": 1, \"questionType\": 2, \"questionId\": \"5_BargainWine\", \"learnToolsVersion\": \"0.3.4\", \"failureMessage\": \"\", \"exceptionClass\": \"\", \"trace\": \"\"}}, \"*\")"
      ],
      "text/plain": [
       "<IPython.core.display.Javascript object>"
      ]
     },
     "metadata": {},
     "output_type": "display_data"
    },
    {
     "data": {
      "text/markdown": [
       "<span style=\"color:#33cc33\">Correct</span>"
      ],
      "text/plain": [
       "Correct"
      ]
     },
     "metadata": {},
     "output_type": "display_data"
    }
   ],
   "source": [
    "bargain_idx = (reviews.points / reviews.price).idxmax()\n",
    "bargain_wine = reviews.loc[bargain_idx, 'title']\n",
    "\n",
    "# Check your answer\n",
    "q5.check()"
   ]
  },
  {
   "cell_type": "code",
   "execution_count": 11,
   "id": "0b0e4d20",
   "metadata": {
    "execution": {
     "iopub.execute_input": "2022-05-31T14:38:05.221500Z",
     "iopub.status.busy": "2022-05-31T14:38:05.220745Z",
     "iopub.status.idle": "2022-05-31T14:38:05.224357Z",
     "shell.execute_reply": "2022-05-31T14:38:05.223698Z"
    },
    "papermill": {
     "duration": 0.015533,
     "end_time": "2022-05-31T14:38:05.226190",
     "exception": false,
     "start_time": "2022-05-31T14:38:05.210657",
     "status": "completed"
    },
    "tags": []
   },
   "outputs": [],
   "source": [
    "# q5.hint()\n",
    "# q5.solution()"
   ]
  },
  {
   "cell_type": "markdown",
   "id": "e68db71a",
   "metadata": {
    "papermill": {
     "duration": 0.008246,
     "end_time": "2022-05-31T14:38:05.243209",
     "exception": false,
     "start_time": "2022-05-31T14:38:05.234963",
     "status": "completed"
    },
    "tags": []
   },
   "source": [
    "## 6.\n",
    "There are only so many words you can use when describing a bottle of wine. Is a wine more likely to be \"tropical\" or \"fruity\"? Create a Series `descriptor_counts` counting how many times each of these two words appears in the `description` column in the dataset. (For simplicity, let's ignore the capitalized versions of these words.)"
   ]
  },
  {
   "cell_type": "code",
   "execution_count": 12,
   "id": "66d2a969",
   "metadata": {
    "execution": {
     "iopub.execute_input": "2022-05-31T14:38:05.262847Z",
     "iopub.status.busy": "2022-05-31T14:38:05.262202Z",
     "iopub.status.idle": "2022-05-31T14:38:05.424128Z",
     "shell.execute_reply": "2022-05-31T14:38:05.423059Z"
    },
    "papermill": {
     "duration": 0.17446,
     "end_time": "2022-05-31T14:38:05.426303",
     "exception": false,
     "start_time": "2022-05-31T14:38:05.251843",
     "status": "completed"
    },
    "tags": []
   },
   "outputs": [
    {
     "data": {
      "application/javascript": [
       "parent.postMessage({\"jupyterEvent\": \"custom.exercise_interaction\", \"data\": {\"outcomeType\": 1, \"valueTowardsCompletion\": 0.14285714285714285, \"interactionType\": 1, \"questionType\": 1, \"questionId\": \"6_DescriptorCounts\", \"learnToolsVersion\": \"0.3.4\", \"failureMessage\": \"\", \"exceptionClass\": \"\", \"trace\": \"\"}}, \"*\")"
      ],
      "text/plain": [
       "<IPython.core.display.Javascript object>"
      ]
     },
     "metadata": {},
     "output_type": "display_data"
    },
    {
     "data": {
      "text/markdown": [
       "<span style=\"color:#33cc33\">Correct</span>"
      ],
      "text/plain": [
       "Correct"
      ]
     },
     "metadata": {},
     "output_type": "display_data"
    }
   ],
   "source": [
    "n_trop = reviews.description.map(lambda desc: \"tropical\" in desc).sum()\n",
    "n_fruity = reviews.description.map(lambda desc: \"fruity\" in desc).sum()\n",
    "descriptor_counts = pd.Series([n_trop, n_fruity], index=['tropical', 'fruity'])\n",
    "\n",
    "# Check your answer\n",
    "q6.check()"
   ]
  },
  {
   "cell_type": "code",
   "execution_count": 13,
   "id": "d3257d62",
   "metadata": {
    "execution": {
     "iopub.execute_input": "2022-05-31T14:38:05.447555Z",
     "iopub.status.busy": "2022-05-31T14:38:05.447069Z",
     "iopub.status.idle": "2022-05-31T14:38:05.451342Z",
     "shell.execute_reply": "2022-05-31T14:38:05.450331Z"
    },
    "papermill": {
     "duration": 0.017833,
     "end_time": "2022-05-31T14:38:05.453742",
     "exception": false,
     "start_time": "2022-05-31T14:38:05.435909",
     "status": "completed"
    },
    "tags": []
   },
   "outputs": [],
   "source": [
    "# q6.hint()\n",
    "# q6.solution()"
   ]
  },
  {
   "cell_type": "markdown",
   "id": "29ce88bf",
   "metadata": {
    "papermill": {
     "duration": 0.008893,
     "end_time": "2022-05-31T14:38:05.471901",
     "exception": false,
     "start_time": "2022-05-31T14:38:05.463008",
     "status": "completed"
    },
    "tags": []
   },
   "source": [
    "## 7.\n",
    "We'd like to host these wine reviews on our website, but a rating system ranging from 80 to 100 points is too hard to understand - we'd like to translate them into simple star ratings. A score of 95 or higher counts as 3 stars, a score of at least 85 but less than 95 is 2 stars. Any other score is 1 star.\n",
    "\n",
    "Also, the Canadian Vintners Association bought a lot of ads on the site, so any wines from Canada should automatically get 3 stars, regardless of points.\n",
    "\n",
    "Create a series `star_ratings` with the number of stars corresponding to each review in the dataset."
   ]
  },
  {
   "cell_type": "code",
   "execution_count": 14,
   "id": "e28331cf",
   "metadata": {
    "execution": {
     "iopub.execute_input": "2022-05-31T14:38:05.492842Z",
     "iopub.status.busy": "2022-05-31T14:38:05.492371Z",
     "iopub.status.idle": "2022-05-31T14:38:05.585616Z",
     "shell.execute_reply": "2022-05-31T14:38:05.584588Z"
    },
    "papermill": {
     "duration": 0.106579,
     "end_time": "2022-05-31T14:38:05.587999",
     "exception": false,
     "start_time": "2022-05-31T14:38:05.481420",
     "status": "completed"
    },
    "tags": []
   },
   "outputs": [
    {
     "data": {
      "application/javascript": [
       "parent.postMessage({\"jupyterEvent\": \"custom.exercise_interaction\", \"data\": {\"outcomeType\": 1, \"valueTowardsCompletion\": 0.14285714285714285, \"interactionType\": 1, \"questionType\": 1, \"questionId\": \"7_StarRatings\", \"learnToolsVersion\": \"0.3.4\", \"failureMessage\": \"\", \"exceptionClass\": \"\", \"trace\": \"\"}}, \"*\")"
      ],
      "text/plain": [
       "<IPython.core.display.Javascript object>"
      ]
     },
     "metadata": {},
     "output_type": "display_data"
    },
    {
     "data": {
      "text/markdown": [
       "<span style=\"color:#33cc33\">Correct</span>"
      ],
      "text/plain": [
       "Correct"
      ]
     },
     "metadata": {},
     "output_type": "display_data"
    }
   ],
   "source": [
    "def stars(x):\n",
    "    if x >= 95:\n",
    "        return 3\n",
    "    elif x >= 85:\n",
    "        return 2\n",
    "    else:\n",
    "        return 1\n",
    "    \n",
    "star_ratings = reviews.points.apply(stars)\n",
    "\n",
    "# Check your answer\n",
    "q7.check()"
   ]
  },
  {
   "cell_type": "code",
   "execution_count": 15,
   "id": "474116a0",
   "metadata": {
    "execution": {
     "iopub.execute_input": "2022-05-31T14:38:05.609811Z",
     "iopub.status.busy": "2022-05-31T14:38:05.609299Z",
     "iopub.status.idle": "2022-05-31T14:38:05.613460Z",
     "shell.execute_reply": "2022-05-31T14:38:05.612541Z"
    },
    "papermill": {
     "duration": 0.017504,
     "end_time": "2022-05-31T14:38:05.615410",
     "exception": false,
     "start_time": "2022-05-31T14:38:05.597906",
     "status": "completed"
    },
    "tags": []
   },
   "outputs": [],
   "source": [
    "#q7.hint()\n",
    "#q7.solution()"
   ]
  },
  {
   "cell_type": "markdown",
   "id": "92453c89",
   "metadata": {
    "papermill": {
     "duration": 0.00914,
     "end_time": "2022-05-31T14:38:05.633830",
     "exception": false,
     "start_time": "2022-05-31T14:38:05.624690",
     "status": "completed"
    },
    "tags": []
   },
   "source": [
    "# Keep going\n",
    "Continue to **[grouping and sorting](https://www.kaggle.com/residentmario/grouping-and-sorting)**."
   ]
  },
  {
   "cell_type": "markdown",
   "id": "ebb6524b",
   "metadata": {
    "papermill": {
     "duration": 0.009032,
     "end_time": "2022-05-31T14:38:05.652457",
     "exception": false,
     "start_time": "2022-05-31T14:38:05.643425",
     "status": "completed"
    },
    "tags": []
   },
   "source": [
    "---\n",
    "\n",
    "\n",
    "\n",
    "\n",
    "*Have questions or comments? Visit the [course discussion forum](https://www.kaggle.com/learn/pandas/discussion) to chat with other learners.*"
   ]
  }
 ],
 "metadata": {
  "kernelspec": {
   "display_name": "Python 3",
   "language": "python",
   "name": "python3"
  },
  "language_info": {
   "codemirror_mode": {
    "name": "ipython",
    "version": 3
   },
   "file_extension": ".py",
   "mimetype": "text/x-python",
   "name": "python",
   "nbconvert_exporter": "python",
   "pygments_lexer": "ipython3",
   "version": "3.7.12"
  },
  "papermill": {
   "default_parameters": {},
   "duration": 21.105591,
   "end_time": "2022-05-31T14:38:06.685711",
   "environment_variables": {},
   "exception": null,
   "input_path": "__notebook__.ipynb",
   "output_path": "__notebook__.ipynb",
   "parameters": {},
   "start_time": "2022-05-31T14:37:45.580120",
   "version": "2.3.4"
  }
 },
 "nbformat": 4,
 "nbformat_minor": 5
}
